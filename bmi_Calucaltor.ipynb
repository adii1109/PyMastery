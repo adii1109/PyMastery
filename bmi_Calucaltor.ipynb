{
 "cells": [
  {
   "cell_type": "markdown",
   "metadata": {},
   "source": [
    "#BMI CALCULATOR\n",
    "\n",
    "\n",
    "BMI = WEIGHT IN KG / (HEIGHT IN M)SQUARE\n",
    "\n",
    "CM TO M\n",
    "M= CM/100"
   ]
  },
  {
   "cell_type": "code",
   "execution_count": 5,
   "metadata": {},
   "outputs": [
    {
     "name": "stdout",
     "output_type": "stream",
     "text": [
      "Your BMI :  18 \n",
      "Result:  UnderWeight\n",
      "Thank You for Using My bmi Calculator . its made by hacker_adiii \n"
     ]
    }
   ],
   "source": [
    "Weight=int(input('input your weight in kg '))\n",
    "height=int(input('enter your height in cm '))\n",
    "\n",
    "\n",
    "meter=height/100\n",
    "\n",
    "import math as m\n",
    "\n",
    "bmi= Weight/(m.pow(meter,2))\n",
    "\n",
    "bmir=m.floor(bmi)\n",
    "\n",
    "if (bmi < 18.5):\n",
    "    print(\"Your BMI : \",bmir,\"\\nResult: \",\"UnderWeight\")\n",
    "\n",
    "elif (bmi>=18.5 and bmi <=24.9):\n",
    "    print(\"Your BMI : \",bmir,\"\\nResult: \",\"Normal Weight\")\n",
    "\n",
    "elif (bmi >=25 and bmi <=29.9):\n",
    "    print(\"Your BMI : \",bmir,\"\\nResult: \",\"Overweight\")\n",
    "\n",
    "elif(bmi>=30):\n",
    "    print(\"Your BMI : \",bmir,\"\\nResult: \",\"Obesity\")\n",
    "\n",
    "else:\n",
    "    print(\"Try agin Error\")\n",
    "\n",
    "\n",
    "\n",
    "print(\"Thank You for Using My bmi Calculator . its made by hacker_adiii \")\n"
   ]
  },
  {
   "cell_type": "code",
   "execution_count": 4,
   "metadata": {},
   "outputs": [
    {
     "name": "stdout",
     "output_type": "stream",
     "text": [
      "* \n",
      "* * \n",
      "* * * \n",
      "* * * * \n"
     ]
    }
   ],
   "source": [
    "for row in range(1,5):\n",
    "    for column in range(1,row+1):\n",
    "        print(\"* \",end=\"\")\n",
    "    print()\n"
   ]
  },
  {
   "cell_type": "code",
   "execution_count": null,
   "metadata": {},
   "outputs": [],
   "source": []
  }
 ],
 "metadata": {
  "kernelspec": {
   "display_name": "Python 3",
   "language": "python",
   "name": "python3"
  },
  "language_info": {
   "codemirror_mode": {
    "name": "ipython",
    "version": 3
   },
   "file_extension": ".py",
   "mimetype": "text/x-python",
   "name": "python",
   "nbconvert_exporter": "python",
   "pygments_lexer": "ipython3",
   "version": "3.12.1"
  }
 },
 "nbformat": 4,
 "nbformat_minor": 2
}
