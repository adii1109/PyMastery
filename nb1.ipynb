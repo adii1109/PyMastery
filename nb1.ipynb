{
 "cells": [
  {
   "cell_type": "code",
   "execution_count": 1,
   "metadata": {},
   "outputs": [
    {
     "name": "stdout",
     "output_type": "stream",
     "text": [
      "its worked\n"
     ]
    }
   ],
   "source": [
    "# IF _elif_else in python\n",
    "\n",
    "if 25>10:\n",
    "    print(\"its worked\")\n"
   ]
  },
  {
   "cell_type": "code",
   "execution_count": 3,
   "metadata": {},
   "outputs": [
    {
     "name": "stdout",
     "output_type": "stream",
     "text": [
      "You can drive\n"
     ]
    }
   ],
   "source": [
    "\n",
    "age=int(input(\"enter your age \"))\n",
    "\n",
    "if age>18:\n",
    "    print('You can drive')\n",
    "\n",
    "elif age==18:\n",
    "    print ('We can think about you ')\n",
    "\n",
    "else:\n",
    "    print ('you cant drive')"
   ]
  },
  {
   "cell_type": "code",
   "execution_count": 4,
   "metadata": {},
   "outputs": [
    {
     "name": "stdout",
     "output_type": "stream",
     "text": [
      "1\n",
      "2\n",
      "3\n",
      "4\n",
      "5\n",
      "adii\n"
     ]
    }
   ],
   "source": [
    "intergers=[1,2,3,4,5, 'adii']\n",
    "\n",
    "for numbers in intergers:\n",
    "    print(numbers)"
   ]
  },
  {
   "cell_type": "code",
   "execution_count": null,
   "metadata": {},
   "outputs": [],
   "source": [
    "# Multiplication table \n",
    "\n",
    "numbers=int(input(\"Enter the number: \"))\n",
    "\n",
    "for i in range(1,11):\n",
    "    print(numbers , \"* \", i , \"= \",numbers*i )\n",
    "\n",
    "\n",
    "\n"
   ]
  },
  {
   "cell_type": "code",
   "execution_count": null,
   "metadata": {},
   "outputs": [],
   "source": [
    "# Write program the program is prime or not \n",
    "\n",
    "num=int (input('Enter the number : '))\n",
    "\n",
    "prime=1\n",
    "for i in range(2,num):\n",
    "    if (num%i==0):\n",
    "        prime=0\n",
    "        break\n",
    "    \n",
    "\n",
    "if prime==1:\n",
    "    print('prime')\n",
    "\n",
    "else:\n",
    "    print('not prime')\n"
   ]
  },
  {
   "cell_type": "code",
   "execution_count": 10,
   "metadata": {},
   "outputs": [
    {
     "name": "stdout",
     "output_type": "stream",
     "text": [
      "Factorial of  5 :  120\n"
     ]
    }
   ],
   "source": [
    "# Factorial of number Using loop:\n",
    "\n",
    "\n",
    "num=int(input(\"Enter the number : \"))\n",
    "\n",
    "fact=1\n",
    "for i in range(1,num+1):\n",
    "    fact*=i;\n",
    "\n",
    "print(\"Factorial of \",num,\": \",fact)"
   ]
  },
  {
   "cell_type": "code",
   "execution_count": 2,
   "metadata": {},
   "outputs": [
    {
     "name": "stdout",
     "output_type": "stream",
     "text": [
      "2 3 5 7 11 13 17 19 "
     ]
    }
   ],
   "source": [
    "#prime num between 1,20\n",
    "\n",
    "for i in range(2,20):\n",
    "    \n",
    "    prime=1\n",
    "    for j in range(2,i):\n",
    "        if (i%j==0):\n",
    "            prime=0\n",
    "            break\n",
    "    if (prime==1):\n",
    "        print(i,end=\" \")"
   ]
  },
  {
   "cell_type": "code",
   "execution_count": 1,
   "metadata": {},
   "outputs": [
    {
     "name": "stdout",
     "output_type": "stream",
     "text": [
      "[1, 2, 3, 5]\n",
      "[1, 2, 3, 5, 'hello']\n"
     ]
    }
   ],
   "source": [
    "l=[1,2,3,5]\n",
    "print(l)\n",
    "l.append('hello')\n",
    "print(l)"
   ]
  },
  {
   "cell_type": "code",
   "execution_count": 3,
   "metadata": {},
   "outputs": [
    {
     "name": "stdout",
     "output_type": "stream",
     "text": [
      "This is first tuple : \n",
      " (5, 3, 2)\n",
      "[(5, 3, 2)]\n",
      "[(5, 3, 2), 'hey']\n",
      "This is After Operation on  tuple : \n",
      " ((5, 3, 2), 'hey')\n"
     ]
    }
   ],
   "source": [
    "tup=(5,3,2)\n",
    "print(\"This is first tuple : \\n\", tup)\n",
    "\n",
    "temp=[tup]\n",
    "print(temp)\n",
    "temp.append(\"hey\")\n",
    "print(temp)\n",
    "tup=tuple(temp)\n",
    "print(\"This is After Operation on  tuple : \\n\", tup)"
   ]
  },
  {
   "cell_type": "code",
   "execution_count": null,
   "metadata": {},
   "outputs": [],
   "source": []
  }
 ],
 "metadata": {
  "kernelspec": {
   "display_name": "Python 3",
   "language": "python",
   "name": "python3"
  },
  "language_info": {
   "codemirror_mode": {
    "name": "ipython",
    "version": 3
   },
   "file_extension": ".py",
   "mimetype": "text/x-python",
   "name": "python",
   "nbconvert_exporter": "python",
   "pygments_lexer": "ipython3",
   "version": "3.12.1"
  }
 },
 "nbformat": 4,
 "nbformat_minor": 2
}
