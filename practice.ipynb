{
 "cells": [
  {
   "cell_type": "code",
   "execution_count": null,
   "metadata": {},
   "outputs": [],
   "source": [
    "print(\"Thank\",11,9,end=\" \")\n",
    "print('hello Aduu')"
   ]
  },
  {
   "cell_type": "code",
   "execution_count": null,
   "metadata": {},
   "outputs": [],
   "source": [
    "a=1\n",
    "b=\"Universe\"\n",
    "c=1.1\n",
    "\n",
    "print(type(a))\n",
    "print(type(b))\n",
    "print(type(c))"
   ]
  },
  {
   "cell_type": "code",
   "execution_count": null,
   "metadata": {},
   "outputs": [],
   "source": [
    "print((5+3)-(5-2))"
   ]
  },
  {
   "cell_type": "code",
   "execution_count": null,
   "metadata": {},
   "outputs": [],
   "source": [
    "print(100*3+5)"
   ]
  },
  {
   "cell_type": "markdown",
   "metadata": {},
   "source": [
    "String and its method\n"
   ]
  },
  {
   "cell_type": "code",
   "execution_count": 2,
   "metadata": {},
   "outputs": [
    {
     "name": "stdout",
     "output_type": "stream",
     "text": [
      "mang\n",
      "ang\n",
      "ng\n"
     ]
    }
   ],
   "source": [
    "fruit=\"mango\"\n",
    "\n",
    "print(fruit[0:4])\n",
    "print(fruit[1:4])\n",
    "print(fruit[-3:-1])"
   ]
  },
  {
   "cell_type": "code",
   "execution_count": 4,
   "metadata": {},
   "outputs": [
    {
     "name": "stdout",
     "output_type": "stream",
     "text": [
      "ar\n"
     ]
    }
   ],
   "source": [
    "name=\"harry\"\n",
    "print(name[-4:-2])"
   ]
  },
  {
   "cell_type": "markdown",
   "metadata": {},
   "source": [
    "Strings Method"
   ]
  },
  {
   "cell_type": "code",
   "execution_count": 5,
   "metadata": {},
   "outputs": [
    {
     "name": "stdout",
     "output_type": "stream",
     "text": [
      "ADITYA\n",
      "aditya\n"
     ]
    }
   ],
   "source": [
    "name=\"Aditya\"\n",
    "\n",
    "print(name.upper())\n",
    "print(name.lower())"
   ]
  },
  {
   "cell_type": "code",
   "execution_count": null,
   "metadata": {},
   "outputs": [],
   "source": [
    "age=int(input('Enter your Age : '))\n",
    "\n",
    "if (age>18):\n",
    "    print(\"You Can drive\")\n",
    "\n",
    "elif (age==18):\n",
    "    print(\"We can Think About You\")\n",
    "\n",
    "else:\n",
    "    print(\"You Cant drive\")\n",
    "\n"
   ]
  },
  {
   "cell_type": "code",
   "execution_count": null,
   "metadata": {},
   "outputs": [],
   "source": []
  },
  {
   "cell_type": "markdown",
   "metadata": {},
   "source": [
    "Switch Statement\n"
   ]
  },
  {
   "cell_type": "code",
   "execution_count": 3,
   "metadata": {},
   "outputs": [
    {
     "name": "stdout",
     "output_type": "stream",
     "text": [
      "You Can drive \n"
     ]
    }
   ],
   "source": [
    "age=int(input('Enter your age : '))\n",
    "\n",
    "match age:\n",
    "    case (18):\n",
    "        print(\"We Can Think About You\")\n",
    "\n",
    "    case _ if (age>18):\n",
    "        print(\"You Can drive \")\n",
    "\n",
    "    case _ if (age<18):\n",
    "        print(\"You Cant drive\")"
   ]
  },
  {
   "cell_type": "code",
   "execution_count": 4,
   "metadata": {},
   "outputs": [
    {
     "name": "stdout",
     "output_type": "stream",
     "text": [
      "A d i t y a "
     ]
    }
   ],
   "source": [
    "name=\"Aditya\"\n",
    "\n",
    "for i in name:\n",
    "    print(i,end=\" \")"
   ]
  },
  {
   "cell_type": "code",
   "execution_count": null,
   "metadata": {},
   "outputs": [],
   "source": [
    "fruits=[\"mango\",\"apple\",\"Banana\",\"Jackfruit\",\"Watermalon\"]\n",
    "\n",
    "for fruit in fruits:\n",
    "    print(fruit)\n",
    "    for i in fruit:\n",
    "        print(i)"
   ]
  },
  {
   "cell_type": "code",
   "execution_count": 1,
   "metadata": {},
   "outputs": [
    {
     "name": "stdout",
     "output_type": "stream",
     "text": [
      "avg :  3.375\n"
     ]
    }
   ],
   "source": [
    "def avg(*numbers):\n",
    "    sum=0\n",
    "\n",
    "    for i in numbers:\n",
    "        sum+=i\n",
    "    \n",
    "    print(\"avg : \" , sum / len(numbers))\n",
    "\n",
    "\n",
    "avg(2,3,4,5,7,2,3,1)"
   ]
  },
  {
   "cell_type": "code",
   "execution_count": 7,
   "metadata": {},
   "outputs": [
    {
     "data": {
      "text/plain": [
       "{3, 4}"
      ]
     },
     "execution_count": 7,
     "metadata": {},
     "output_type": "execute_result"
    }
   ],
   "source": [
    "num1={1,2,4,3}\n",
    "num2={2,1,5,6,7}\n",
    "\n",
    "num3=num1.difference(num2)\n",
    "num3\n",
    "\n",
    "    "
   ]
  },
  {
   "cell_type": "code",
   "execution_count": 5,
   "metadata": {},
   "outputs": [
    {
     "name": "stdout",
     "output_type": "stream",
     "text": [
      "dict_values(['karan', 19, True])\n",
      "dict_keys(['name', 'age', 'eligiable'])\n",
      "The value correspounding to the name is karan\n",
      "The value correspounding to the age is 19\n",
      "The value correspounding to the eligiable is True\n",
      "dict_items([('name', 'karan'), ('age', 19), ('eligiable', True)])\n"
     ]
    }
   ],
   "source": [
    "info={'name': 'karan',\n",
    "      'age': 19,\n",
    "      'eligiable':True\n",
    "      }\n",
    "\n",
    "print(info.values())\n",
    "print(info.keys())\n",
    "\n",
    "for key in info.keys():\n",
    "    print(f\"The value correspounding to the {key} is {info[key]}\")\n",
    "\n",
    "\n",
    "print(info.items())"
   ]
  },
  {
   "cell_type": "code",
   "execution_count": null,
   "metadata": {},
   "outputs": [],
   "source": []
  }
 ],
 "metadata": {
  "kernelspec": {
   "display_name": "Python 3",
   "language": "python",
   "name": "python3"
  },
  "language_info": {
   "codemirror_mode": {
    "name": "ipython",
    "version": 3
   },
   "file_extension": ".py",
   "mimetype": "text/x-python",
   "name": "python",
   "nbconvert_exporter": "python",
   "pygments_lexer": "ipython3",
   "version": "3.12.1"
  }
 },
 "nbformat": 4,
 "nbformat_minor": 2
}
